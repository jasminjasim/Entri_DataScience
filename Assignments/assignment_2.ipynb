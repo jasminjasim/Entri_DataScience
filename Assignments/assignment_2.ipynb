{
 "cells": [
  {
   "cell_type": "markdown",
   "id": "90cf21f9",
   "metadata": {},
   "source": [
    "## Data structures in python \n",
    "\n",
    "#### Topic :List"
   ]
  },
  {
   "cell_type": "markdown",
   "id": "daf5282a",
   "metadata": {},
   "source": []
  },
  {
   "cell_type": "code",
   "execution_count": 10,
   "id": "3c4a2a63",
   "metadata": {},
   "outputs": [
    {
     "name": "stdout",
     "output_type": "stream",
     "text": [
      "[24, 56, 36, 15, 29]\n"
     ]
    }
   ],
   "source": [
    "# Q1. Create a list of 5 random numbers and print the list.\n",
    "import random \n",
    "random_number=[]\n",
    "for i in range(1,6):\n",
    "    random_number.append(random.randint(1,100))\n",
    "print(random_number)"
   ]
  },
  {
   "cell_type": "code",
   "execution_count": 12,
   "id": "37a4f1d5",
   "metadata": {},
   "outputs": [
    {
     "data": {
      "text/plain": [
       "[24, 56, 36, 15, 29, 'python', 'Java', 'C++']"
      ]
     },
     "execution_count": 12,
     "metadata": {},
     "output_type": "execute_result"
    }
   ],
   "source": [
    "# Q2. Insert 3 new values to the list and print the updated list.\n",
    "random_number.extend([\"python\",\"Java\",\"C++\"])\n",
    "random_number"
   ]
  },
  {
   "cell_type": "code",
   "execution_count": 13,
   "id": "8ab72ba3",
   "metadata": {},
   "outputs": [
    {
     "name": "stdout",
     "output_type": "stream",
     "text": [
      "24\n",
      "56\n",
      "36\n",
      "15\n",
      "29\n",
      "python\n",
      "Java\n",
      "C++\n"
     ]
    }
   ],
   "source": [
    "# Q3. Try to use a for loop to print each element in the list.\n",
    "for i in random_number:\n",
    "    print(i)"
   ]
  },
  {
   "cell_type": "code",
   "execution_count": 14,
   "id": "2c559084",
   "metadata": {},
   "outputs": [
    {
     "data": {
      "text/plain": [
       "{'name': 'John', 'Age': 25, 'Address': 'New York'}"
      ]
     },
     "execution_count": 14,
     "metadata": {},
     "output_type": "execute_result"
    }
   ],
   "source": [
    "\n",
    "#Topic: Dictionary\n",
    " \n",
    "#Q1. Create a dictionary with keys 'name', 'age', and 'address' and values 'John', 25, and 'New York' respectively.\n",
    "\n",
    "customer_info={\"name\":\"John\",\"Age\":25,\"Address\":\"New York\"}\n",
    "customer_info"
   ]
  },
  {
   "cell_type": "code",
   "execution_count": 15,
   "id": "762970df",
   "metadata": {},
   "outputs": [
    {
     "data": {
      "text/plain": [
       "{'name': 'John', 'Age': 25, 'Address': 'New York', 'Phone': 1234567890}"
      ]
     },
     "execution_count": 15,
     "metadata": {},
     "output_type": "execute_result"
    }
   ],
   "source": [
    "#Q2. Add a new key-value pair to the dictionary created in Q1 with key 'phone' and value '1234567890'.\n",
    "customer_info.update({\"Phone\":1234567890})\n",
    "customer_info"
   ]
  },
  {
   "cell_type": "code",
   "execution_count": null,
   "id": "6cd594a4",
   "metadata": {},
   "outputs": [
    {
     "name": "stdout",
     "output_type": "stream",
     "text": [
      "{1, 2, 3, 4, 5}\n",
      "<class 'set'>\n"
     ]
    }
   ],
   "source": [
    "#Topic: Set\n",
    "#Exercise  \n",
    "#Q1.Create a set with values 1, 2, 3, 4, and 5.\n",
    "\n",
    "set_values={1,2,3,4,5}\n",
    "print(set_values)\n",
    "print(type(set_values))\n",
    "\n",
    "\n"
   ]
  },
  {
   "cell_type": "code",
   "execution_count": 22,
   "id": "6e68637a",
   "metadata": {},
   "outputs": [
    {
     "data": {
      "text/plain": [
       "{1, 2, 3, 4, 5, 6}"
      ]
     },
     "execution_count": 22,
     "metadata": {},
     "output_type": "execute_result"
    }
   ],
   "source": [
    "#Q2. Add the value 6 to the set created in Q1.\n",
    "set_values.add(6)\n",
    "set_values"
   ]
  },
  {
   "cell_type": "code",
   "execution_count": 23,
   "id": "b914ea7a",
   "metadata": {},
   "outputs": [
    {
     "data": {
      "text/plain": [
       "{1, 2, 4, 5, 6}"
      ]
     },
     "execution_count": 23,
     "metadata": {},
     "output_type": "execute_result"
    }
   ],
   "source": [
    "#Q3. Remove the value 3 from the set created in Q1.\n",
    "set_values.remove(3)\n",
    "set_values"
   ]
  },
  {
   "cell_type": "code",
   "execution_count": 24,
   "id": "93e2fa80",
   "metadata": {},
   "outputs": [
    {
     "name": "stdout",
     "output_type": "stream",
     "text": [
      "{1, 2, 3, 4}\n",
      "<class 'set'>\n"
     ]
    }
   ],
   "source": [
    "#Topic:Tuple\n",
    "#Exercise \n",
    "#Q1. Create a tuple with values 1, 2, 3, and 4\n",
    "tuple_values={1,2,3,4,}\n",
    "print(tuple_values)\n",
    "print(type(tuple_values))\n",
    "#Q2. Print the length of the tuple created in Q1.\n"
   ]
  },
  {
   "cell_type": "code",
   "execution_count": 26,
   "id": "7e760a1e",
   "metadata": {},
   "outputs": [
    {
     "name": "stdout",
     "output_type": "stream",
     "text": [
      "4\n"
     ]
    }
   ],
   "source": [
    "#Q2. Print the length of the tuple created in Q1.\n",
    "print(len(tuple_values))"
   ]
  },
  {
   "cell_type": "code",
   "execution_count": null,
   "id": "3aa94eaf",
   "metadata": {},
   "outputs": [],
   "source": []
  }
 ],
 "metadata": {
  "kernelspec": {
   "display_name": "Python 3",
   "language": "python",
   "name": "python3"
  },
  "language_info": {
   "codemirror_mode": {
    "name": "ipython",
    "version": 3
   },
   "file_extension": ".py",
   "mimetype": "text/x-python",
   "name": "python",
   "nbconvert_exporter": "python",
   "pygments_lexer": "ipython3",
   "version": "3.11.9"
  }
 },
 "nbformat": 4,
 "nbformat_minor": 5
}
