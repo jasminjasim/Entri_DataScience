{
 "cells": [
  {
   "cell_type": "code",
   "execution_count": null,
   "id": "4b28b75c",
   "metadata": {},
   "outputs": [],
   "source": []
  },
  {
   "cell_type": "markdown",
   "id": "197005d7",
   "metadata": {},
   "source": [
    "\n",
    "\n",
    "\n",
    "\n"
   ]
  },
  {
   "cell_type": "code",
   "execution_count": null,
   "id": "932a3ed8",
   "metadata": {},
   "outputs": [],
   "source": [
    "#1. Import numpy as np and see the version (Score 1)\n",
    "import numpy as np"
   ]
  },
  {
   "cell_type": "code",
   "execution_count": null,
   "id": "cd19c3b7",
   "metadata": {},
   "outputs": [
    {
     "data": {
      "text/plain": [
       "array([[ 1,  2,  3,  4,  5],\n",
       "       [ 6,  7,  8,  9, 10]])"
      ]
     },
     "execution_count": 4,
     "metadata": {},
     "output_type": "execute_result"
    }
   ],
   "source": [
    "#2. Create a numpy array containing the numbers from 1 to 10, and then reshape it to a 2x5matrix. (Score:1)\n",
    "a=np.array([1,2,3,4,5,6,7,8,9,10])\n",
    "a.reshape(2,5)"
   ]
  },
  {
   "cell_type": "code",
   "execution_count": null,
   "id": "74569512",
   "metadata": {},
   "outputs": [
    {
     "name": "stdout",
     "output_type": "stream",
     "text": [
      "[1, 2, 3, 4, 5, 6, 7, 8, 9, 10, 11, 12, 13, 14, 15, 16, 17, 18, 19, 20]\n",
      "[ 5  6  7  8  9 10 11 12 13 14 15 16 17 18 19 20]\n"
     ]
    }
   ],
   "source": [
    "#3. Create a numpy array containing the numbers from 1 to 20, and then extract the elements between the 5th and 15th index. (Score :2)\n",
    "a=21\n",
    "b=[]\n",
    "for i in range(1,a):\n",
    "    b.append(i)\n",
    "print(b)\n",
    "b=np.array(b)\n",
    "b=b[4::]\n",
    "print(b)"
   ]
  },
  {
   "cell_type": "code",
   "execution_count": null,
   "id": "eff31d5b",
   "metadata": {},
   "outputs": [
    {
     "name": "stdout",
     "output_type": "stream",
     "text": [
      "Mean:12.5\n",
      "Median:12.5\n",
      "Standard Deviation:4.6097722286464435\n"
     ]
    }
   ],
   "source": [
    "#4. How to compute the mean, median, standard deviation of a numpy array?Use the array you created above (Score 3)\n",
    "b_mean = np.mean(b)\n",
    "print(f\"Mean:{b_mean}\")\n",
    "b_median = np.median(b)\n",
    "print(f\"Median:{b_median}\")     \n",
    "b_std = np.std(b)\n",
    "print(f\"Standard Deviation:{b_std}\")"
   ]
  },
  {
   "cell_type": "code",
   "execution_count": 20,
   "id": "1a3dcbef",
   "metadata": {},
   "outputs": [
    {
     "name": "stdout",
     "output_type": "stream",
     "text": [
      "[[ 0  2  2  4]\n",
      " [ 4  6  6  8]\n",
      " [ 8 10 10 12]]\n"
     ]
    }
   ],
   "source": [
    "#5. Write a NumPy program that creates a 2D array x of shape (3, 4) and a 1D array y oshape (4,). Subtract y from each row of x using broadcasting. (Score : 2) Note : Score 1\n",
    "# for timely submission.\n",
    "\n",
    "x = np.array([[1, 2, 3, 4], [5, 6, 7, 8], [9, 10, 11, 12]])\n",
    "y = np.array([1, 0, 1, 0])  \n",
    "result = x - y\n",
    "print(result)   "
   ]
  },
  {
   "cell_type": "code",
   "execution_count": null,
   "id": "4b125a82",
   "metadata": {},
   "outputs": [],
   "source": []
  }
 ],
 "metadata": {
  "kernelspec": {
   "display_name": "Python 3",
   "language": "python",
   "name": "python3"
  },
  "language_info": {
   "codemirror_mode": {
    "name": "ipython",
    "version": 3
   },
   "file_extension": ".py",
   "mimetype": "text/x-python",
   "name": "python",
   "nbconvert_exporter": "python",
   "pygments_lexer": "ipython3",
   "version": "3.11.9"
  }
 },
 "nbformat": 4,
 "nbformat_minor": 5
}
